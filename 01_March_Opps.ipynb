{
 "cells": [
  {
   "cell_type": "code",
   "execution_count": null,
   "id": "6fba0198-f35c-477e-888d-adbbc906db1a",
   "metadata": {},
   "outputs": [],
   "source": [
    "#1) Explain what inheritance is in object-oriented programming and why it is used.\n",
    "# Ans\n",
    "### Inheritance is an OOP concept that allows a new class (child class) to derive properties and behaviors from an existing class (parent class). \n",
    "### This promotes code reusability and hierarchical relationships between classes."
   ]
  },
  {
   "cell_type": "code",
   "execution_count": null,
   "id": "2f235bab-5af2-4668-ad44-05a4fdb12198",
   "metadata": {},
   "outputs": [],
   "source": [
    "# 2) Discuss the concept of single inheritance and multiple inheritance, highlighting their differences and advantages.\n",
    "## Ans\n",
    "### Inheritance is a fundamental OOP principle where a child class derives attributes and behaviors from a parent class.\n",
    "### Single inheritance and multiple inheritance are two types of inheritance used in Python and other object-oriented languages."
   ]
  },
  {
   "cell_type": "code",
   "execution_count": null,
   "id": "113360d6-7844-4734-96b5-912ab6a89b37",
   "metadata": {},
   "outputs": [],
   "source": [
    "# 3) Explain the terms \"base class\" and \"derived class\" in the context of inheritance.\n",
    "## Ans \n",
    "### Inheritance in OOP allows a class to derive properties and behaviors from another class. \n",
    "### This leads to the classification of classes into base classes and derived classes.\n",
    "\n"
   ]
  },
  {
   "cell_type": "code",
   "execution_count": null,
   "id": "6a6f2f80-bada-4ad2-824c-685e640ae90f",
   "metadata": {},
   "outputs": [],
   "source": [
    "# 4) What is the significance of the \"protected\" access modifier in inheritance? How does it differ from \"private\" and \"public\" modifiers?\n",
    "\n",
    "## Ans\n",
    "## In Object-Oriented Programming (OOP), access modifiers control how class attributes and methods can be accessed or modified.\n",
    "## Python uses a convention-based approach to define access levels:\n",
    "## Public (variable) → Accessible from anywhere.\n",
    "## Protected (_variable) → Intended for internal use but can be accessed in derived classes.\n",
    "## Private (__variable) → Strictly restricted to the defining class, preventing accidental modification."
   ]
  },
  {
   "cell_type": "code",
   "execution_count": null,
   "id": "7fc64d00-fbcf-41a8-9350-80eba88957c3",
   "metadata": {},
   "outputs": [],
   "source": [
    "# 5) What is the purpose of the \"super\" keyword in inheritance? Provide an example.\n",
    "## Ans\n",
    "## The super keyword in Python is used to call methods from the parent class (superclass) \n",
    "## inside a derived class (subclass). It is particularly useful for:\n",
    "## Reusing parent class methods without explicitly naming the superclass.\n",
    "## Extending parent functionality rather than completely overriding it.\n",
    "## Ensuring multiple inheritance works properly using Method Resolution Order (MRO)."
   ]
  },
  {
   "cell_type": "code",
   "execution_count": null,
   "id": "9e7b3484-0366-4f63-9999-4d35be2ec7b8",
   "metadata": {},
   "outputs": [],
   "source": [
    "# 6) Create a base class called \"Vehicle\" with attributes like \"make\", \"model\", and \"year\".\n",
    "## Then, create a derived class called \"Car\" that inherits from \"Vehicle\" and adds an\n",
    "## attribute called \"fuel_type\". Implement appropriate methods in both classes."
   ]
  },
  {
   "cell_type": "code",
   "execution_count": null,
   "id": "9285adf1-8878-468e-93c3-1129f8f9457d",
   "metadata": {},
   "outputs": [],
   "source": [
    "# Base class\n",
    "class Vehicle:\n",
    "    def __init__(self, make, model, year):\n",
    "        self.make = make\n",
    "        self.model = model\n",
    "        self.year = year\n",
    "\n",
    "    def display_info(self):\n",
    "        return f\"{self.year} {self.make} {self.model}\"\n",
    "\n",
    "# Derived class\n",
    "class Car(Vehicle):\n",
    "    def __init__(self, make, model, year, fuel_type):\n",
    "        super().__init__(make, model, year)  # Call the parent class constructor\n",
    "        self.fuel_type = fuel_type\n",
    "\n",
    "    def display_info(self):\n",
    "        return f\"{super().display_info()} - Fuel Type: {self.fuel_type}\""
   ]
  },
  {
   "cell_type": "code",
   "execution_count": null,
   "id": "92fef1ae-8d81-4b52-a50c-ce55bc6c73a1",
   "metadata": {},
   "outputs": [],
   "source": [
    "# 7) Create a base class called \"Employee\" with attributes like \"name\" and \"salary.\"\n",
    "## Derive two classes, \"Manager\" and \"Developer,\" from \"Employee.\" Add an additional\n",
    "## attribute called \"department\" for the \"Manager\" class and \"programming_language\"\n",
    "## for the \"Developer\" class."
   ]
  },
  {
   "cell_type": "code",
   "execution_count": 3,
   "id": "37dfb1c0-2ee3-4092-ab0b-6028ffa7cb79",
   "metadata": {},
   "outputs": [],
   "source": [
    "# Base class\n",
    "class Employee:\n",
    "    def __init__(self, name, salary):\n",
    "        self.name = name\n",
    "        self.salary = salary\n",
    "\n",
    "    def display_info(self):\n",
    "        return f\"Employee Name: {self.name}, Salary: ${self.salary}\"\n",
    "\n",
    "# Derived class: Manager\n",
    "class Manager(Employee):\n",
    "    def __init__(self, name, salary, department):\n",
    "        super().__init__(name, salary)  # Call Employee's constructor\n",
    "        self.department = department\n",
    "\n",
    "    def display_info(self):\n",
    "        return f\"{super().display_info()}, Department: {self.department}\"\n",
    "\n",
    "# Derived class: Developer\n",
    "class Developer(Employee):\n",
    "    def __init__(self, name, salary, programming_language):\n",
    "        super().__init__(name, salary)  # Call Employee's constructor\n",
    "        self.programming_language = programming_language\n",
    "\n",
    "    def display_info(self):\n",
    "        return f\"{super().display_info()}, Programming Language: {self.programming_language}\"\n"
   ]
  },
  {
   "cell_type": "code",
   "execution_count": 5,
   "id": "821c1bd1-898e-4533-8346-aa2915f6ebcb",
   "metadata": {},
   "outputs": [
    {
     "name": "stdout",
     "output_type": "stream",
     "text": [
      "Employee Name: Alice Johnson, Salary: $90000, Department: HR\n"
     ]
    }
   ],
   "source": [
    "# Creating objects\n",
    "manager = Manager(\"Alice Johnson\", 90000, \"HR\")\n",
    "developer = Developer(\"Bob Smith\", 80000, \"Python\")\n",
    "\n",
    "# Displaying information\n",
    "print(manager.display_info())  "
   ]
  },
  {
   "cell_type": "code",
   "execution_count": null,
   "id": "8b0c4e5b-f46c-45f6-942e-3edfbb84dc1b",
   "metadata": {},
   "outputs": [],
   "source": [
    "# 8) Design a base class called \"Shape\" with attributes like \"colour\" and \"border_width.\"\n",
    "## Create derived classes, \"Rectangle\" and \"Circle,\" that inherit from \"Shape\" and add\n",
    "## specific attributes like \"length\" and \"width\" for the \"Rectangle\" class and \"radius\" for the \"Circle\" class."
   ]
  },
  {
   "cell_type": "code",
   "execution_count": 7,
   "id": "20417921-ebb7-44f0-8762-8a540bb11964",
   "metadata": {},
   "outputs": [],
   "source": [
    "# Base class\n",
    "class Shape:\n",
    "    def __init__(self, colour, border_width):\n",
    "        self.colour = colour\n",
    "        self.border_width = border_width\n",
    "\n",
    "    def display_info(self):\n",
    "        return f\"Colour: {self.colour}, Border Width: {self.border_width}\"\n",
    "\n",
    "# Derived class: Rectangle\n",
    "class Rectangle(Shape):\n",
    "    def __init__(self, colour, border_width, length, width):\n",
    "        super().__init__(colour, border_width)  # Call Shape's constructor\n",
    "        self.length = length\n",
    "        self.width = width\n",
    "\n",
    "    def area(self):\n",
    "        return self.length * self.width\n",
    "\n",
    "    def display_info(self):\n",
    "        return f\"{super().display_info()}, Length: {self.length}, Width: {self.width}, Area: {self.area()}\"\n",
    "\n",
    "# Derived class: Circle\n",
    "class Circle(Shape):\n",
    "    def __init__(self, colour, border_width, radius):\n",
    "        super().__init__(colour, border_width)  # Call Shape's constructor\n",
    "        self.radius = radius\n",
    "\n",
    "    def area(self):\n",
    "        return 3.1416 * self.radius * self.radius\n",
    "\n",
    "    def display_info(self):\n",
    "        return f\"{super().display_info()}, Radius: {self.radius}, Area: {self.area()}\""
   ]
  },
  {
   "cell_type": "code",
   "execution_count": 9,
   "id": "2703e1b7-b47c-4297-acfe-d61596e62b65",
   "metadata": {},
   "outputs": [],
   "source": [
    "# Creating objects\n",
    "rectangle = Rectangle(\"Red\", 2, 10, 5)\n",
    "circle = Circle(\"Blue\", 1, 7)"
   ]
  },
  {
   "cell_type": "code",
   "execution_count": 11,
   "id": "86c9ab89-06d1-43b9-b43d-70bcfb6886ce",
   "metadata": {},
   "outputs": [
    {
     "name": "stdout",
     "output_type": "stream",
     "text": [
      "Colour: Red, Border Width: 2, Length: 10, Width: 5, Area: 50\n"
     ]
    }
   ],
   "source": [
    "print(rectangle.display_info())"
   ]
  },
  {
   "cell_type": "code",
   "execution_count": null,
   "id": "957d1c68-7fd2-4d84-b0a4-ba3933126568",
   "metadata": {},
   "outputs": [],
   "source": [
    "# Create a base class called \"Device\" with attributes like \"brand\" and \"model.\" Derive\n",
    "## two classes, \"Phone\" and \"Tablet,\" from \"Device.\" Add specific attributes like\n",
    "## \"screen_size\" for the \"Phone\" class and \"battery_capacity\" for the \"Tablet\" class."
   ]
  },
  {
   "cell_type": "code",
   "execution_count": 13,
   "id": "f31e2216-3620-4ff2-b116-4593934ba410",
   "metadata": {},
   "outputs": [],
   "source": [
    "# Base class\n",
    "class Device:\n",
    "    def __init__(self, brand, model):\n",
    "        self.brand = brand\n",
    "        self.model = model\n",
    "\n",
    "    def display_info(self):\n",
    "        return f\"Brand: {self.brand}, Model: {self.model}\"\n",
    "\n",
    "# Derived class: Phone\n",
    "class Phone(Device):\n",
    "    def __init__(self, brand, model, screen_size):\n",
    "        super().__init__(brand, model)  # Call Device's constructor\n",
    "        self.screen_size = screen_size\n",
    "\n",
    "    def display_info(self):\n",
    "        return f\"{super().display_info()}, Screen Size: {self.screen_size} inches\"\n",
    "\n",
    "# Derived class: Tablet\n",
    "class Tablet(Device):\n",
    "    def __init__(self, brand, model, battery_capacity):\n",
    "        super().__init__(brand, model)  # Call Device's constructor\n",
    "        self.battery_capacity = battery_capacity\n",
    "\n",
    "    def display_info(self):\n",
    "        return f\"{super().display_info()}, Battery Capacity: {self.battery_capacity} mAh\"\n",
    "\n"
   ]
  },
  {
   "cell_type": "code",
   "execution_count": 15,
   "id": "a2a0621a-f5c8-40d3-8c71-732973684c76",
   "metadata": {},
   "outputs": [],
   "source": [
    "# Creating objects\n",
    "phone = Phone(\"Apple\", \"iPhone 14\", 6.1)\n",
    "tablet = Tablet(\"Samsung\", \"Galaxy Tab S7\", 8000)"
   ]
  },
  {
   "cell_type": "code",
   "execution_count": 18,
   "id": "0c25b627-5f28-434f-88e8-8d251376396e",
   "metadata": {},
   "outputs": [
    {
     "name": "stdout",
     "output_type": "stream",
     "text": [
      "Brand: Apple, Model: iPhone 14, Screen Size: 6.1 inches\n"
     ]
    }
   ],
   "source": [
    "print(phone.display_info())  "
   ]
  },
  {
   "cell_type": "code",
   "execution_count": null,
   "id": "2aa320c8-eac5-4b6b-8312-e49f5bce0da8",
   "metadata": {},
   "outputs": [],
   "source": [
    "# 10 Create a base class called \"BankAccount\" with attributes like \"account_number\" and\n",
    "## \"balance.\" Derive two classes, \"SavingsAccount\" and \"CheckingAccount,\" from\n",
    "##\"BankAccount.\" Add specific methods like \"calculate_interest\" for the\n",
    "## \"SavingsAccount\" class and \"deduct_fees\" for the \"CheckingAccount\" class."
   ]
  },
  {
   "cell_type": "code",
   "execution_count": 20,
   "id": "ceb5dd2c-4dca-41c5-b9bc-8a3858155295",
   "metadata": {},
   "outputs": [],
   "source": [
    "# Base class\n",
    "class BankAccount:\n",
    "    def __init__(self, account_number, balance):\n",
    "        self.account_number = account_number\n",
    "        self.balance = balance\n",
    "\n",
    "    def deposit(self, amount):\n",
    "        if amount > 0:\n",
    "            self.balance += amount\n",
    "            return f\"Deposited ${amount}. New Balance: ${self.balance}\"\n",
    "        return \"Deposit amount must be positive.\"\n",
    "\n",
    "    def withdraw(self, amount):\n",
    "        if amount > 0 and amount <= self.balance:\n",
    "            self.balance -= amount\n",
    "            return f\"Withdrawn ${amount}. New Balance: ${self.balance}\"\n",
    "        return \"Insufficient balance or invalid amount.\"\n",
    "\n",
    "    def display_info(self):\n",
    "        return f\"Account Number: {self.account_number}, Balance: ${self.balance}\"\n",
    "\n",
    "# Derived class: SavingsAccount\n",
    "class SavingsAccount(BankAccount):\n",
    "    def __init__(self, account_number, balance, interest_rate):\n",
    "        super().__init__(account_number, balance)  # Call BankAccount's constructor\n",
    "        self.interest_rate = interest_rate\n",
    "\n",
    "    def calculate_interest(self):\n",
    "        interest = self.balance * (self.interest_rate / 100)\n",
    "        return f\"Interest Earned: ${interest}\"\n",
    "\n",
    "    def display_info(self):\n",
    "        return f\"{super().display_info()}, Interest Rate: {self.interest_rate}%\"\n",
    "\n",
    "# Derived class: CheckingAccount\n",
    "class CheckingAccount(BankAccount):\n",
    "    def __init__(self, account_number, balance, transaction_fee):\n",
    "        super().__init__(account_number, balance)  # Call BankAccount's constructor\n",
    "        self.transaction_fee = transaction_fee\n",
    "\n",
    "    def deduct_fees(self):\n",
    "        if self.balance >= self.transaction_fee:\n",
    "            self.balance -= self.transaction_fee\n",
    "            return f\"Transaction fee of ${self.transaction_fee} deducted. New Balance: ${self.balance}\"\n",
    "        return \"Insufficient balance to deduct transaction fee.\"\n",
    "\n",
    "    def display_info(self):\n",
    "        return f\"{super().display_info()}, Transaction Fee: ${self.transaction_fee}\""
   ]
  },
  {
   "cell_type": "code",
   "execution_count": 22,
   "id": "e8ba0a67-5af2-4830-bc7e-21c18db6cca2",
   "metadata": {},
   "outputs": [],
   "source": [
    "# Creating objects\n",
    "savings = SavingsAccount(\"SA12345\", 5000, 3.5)\n",
    "checking = CheckingAccount(\"CA98765\", 2000, 10)"
   ]
  },
  {
   "cell_type": "code",
   "execution_count": 24,
   "id": "c2fccfbd-fbd8-4ddb-9a8c-02d6e1c2704f",
   "metadata": {},
   "outputs": [
    {
     "name": "stdout",
     "output_type": "stream",
     "text": [
      "Account Number: SA12345, Balance: $5000, Interest Rate: 3.5%\n"
     ]
    }
   ],
   "source": [
    "print(savings.display_info()) "
   ]
  },
  {
   "cell_type": "code",
   "execution_count": null,
   "id": "251ed9f4-da70-45ae-873a-5b6601747d86",
   "metadata": {},
   "outputs": [],
   "source": []
  },
  {
   "cell_type": "code",
   "execution_count": null,
   "id": "98d98164-25fb-4213-9a09-96c0292d8502",
   "metadata": {},
   "outputs": [],
   "source": []
  },
  {
   "cell_type": "code",
   "execution_count": null,
   "id": "75ce5f7c-9c16-4b74-8fdd-afef23792d2d",
   "metadata": {},
   "outputs": [],
   "source": []
  },
  {
   "cell_type": "code",
   "execution_count": null,
   "id": "3e2d0d4f-c5a8-409a-b182-815ed1a4b856",
   "metadata": {},
   "outputs": [],
   "source": []
  },
  {
   "cell_type": "code",
   "execution_count": null,
   "id": "ead73293-f7f0-43dd-bc18-864930d42b94",
   "metadata": {},
   "outputs": [],
   "source": []
  }
 ],
 "metadata": {
  "kernelspec": {
   "display_name": "Python [conda env:base] *",
   "language": "python",
   "name": "conda-base-py"
  },
  "language_info": {
   "codemirror_mode": {
    "name": "ipython",
    "version": 3
   },
   "file_extension": ".py",
   "mimetype": "text/x-python",
   "name": "python",
   "nbconvert_exporter": "python",
   "pygments_lexer": "ipython3",
   "version": "3.12.7"
  }
 },
 "nbformat": 4,
 "nbformat_minor": 5
}
