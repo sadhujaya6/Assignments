{
 "cells": [
  {
   "cell_type": "code",
   "execution_count": null,
   "id": "325f10e6-49c5-44a0-8ac6-961dc17957aa",
   "metadata": {},
   "outputs": [],
   "source": [
    "# 1) What is the primary goal of Object-Oriented Programming (OOP)?\n",
    "# Ans \n",
    "## The primary goal of Object-Oriented Programming (OOP) is to organize and structure code in a way that enhances reusability, \n",
    "## maintainability, and scalability by modeling real-world entities using objects.\n",
    "## OOP makes software more modular, flexible, and easier to debug, maintain, and extend. "
   ]
  },
  {
   "cell_type": "code",
   "execution_count": null,
   "id": "71433a56-5e66-42a3-8cc3-22e0dd2aa679",
   "metadata": {},
   "outputs": [],
   "source": [
    "# 2) What is an object in Python?\n",
    "# Ans\n",
    "## An object in Python is an instance of a class that contains both data (attributes) and methods (functions) that operate on the data. \n",
    "## Everything in Python—integers, strings, lists, functions, and even classes themselves—is an object.\n",
    "## Since everything in Python is an object, even simple data types like int, str, and list have associated attributes and methods."
   ]
  },
  {
   "cell_type": "code",
   "execution_count": null,
   "id": "d5dcb525-8952-4d4b-a96e-4cbd93afc473",
   "metadata": {},
   "outputs": [],
   "source": [
    "# 3) What is a class in Python?\n",
    "# Ans\n",
    "## A class in Python is a blueprint or template for creating objects. \n",
    "## It defines the attributes (variables) and methods (functions) that the objects created from it will have."
   ]
  },
  {
   "cell_type": "code",
   "execution_count": null,
   "id": "1a62d24f-c74e-4013-94a3-0b894bc55c84",
   "metadata": {},
   "outputs": [],
   "source": [
    "#4) What are attributes and methods in a class?\n",
    "# Ans\n",
    "## In Python, attributes and methods define the characteristics and behaviors of an object created from a class.\n",
    "## Attributes are variables that store data specific to an object. They define the state of an object."
   ]
  },
  {
   "cell_type": "code",
   "execution_count": null,
   "id": "19064c18-90e2-4f93-946c-b75d510f6a70",
   "metadata": {},
   "outputs": [],
   "source": [
    "# 5) What is the difference between class variables and instance variables in Python?\n",
    "## Ans\n",
    "## In Python, class variables and instance variables are both used to store data, but they have different scopes and behaviors.\n",
    "## Class variables are shared among all objects; instance variables are unique to each object.\n",
    "## Modifying a class variable affects all instances, whereas modifying an instance variable affects only that object.\n",
    "## Class variables are typically used for properties common to all instances (e.g., wheels), \n",
    "## while instance variables store object-specific data (e.g., brand, model)."
   ]
  },
  {
   "cell_type": "code",
   "execution_count": null,
   "id": "ecad7366-fb36-41af-bd87-7943dc86e9c3",
   "metadata": {},
   "outputs": [],
   "source": [
    "# 6) What is the purpose of the self parameter in Python class methods?\n",
    "# Ans\n",
    "## The self parameter in Python class methods refers to the instance of the class and is used to access instance attributes and methods. \n",
    "## It allows each object created from the class to have its own independent data while sharing the same methods."
   ]
  },
  {
   "cell_type": "code",
   "execution_count": null,
   "id": "be20ff86-ce98-4fee-81d1-18a6c2158875",
   "metadata": {},
   "outputs": [],
   "source": [
    "#7 For a library management system, you have to design the \"Book\" class with OOP\n",
    "##principles in mind. The “Book” class will have following attributes:\n",
    "##a. title: Represents the title of the book.\n",
    "##b. author: Represents the author(s) of the book.\n",
    "##c. isbn: Represents the ISBN (International Standard Book Number) of the book.\n",
    "##d. publication_year: Represents the year of publication of the book.\n",
    "##e. available_copies: Represents the number of copies available for checkout.\n",
    "#The class will also include the following methods:\n",
    "##a. check_out(self): Decrements the available copies by one if there are copies\n",
    "##available for checkout.\n",
    "##b. return_book(self): Increments the available copies by one when a book is returned.\n",
    "##c. display_book_info(self): Displays the information about the book, including its attributes and the number of available copies."
   ]
  },
  {
   "cell_type": "code",
   "execution_count": null,
   "id": "3b8192be-d59c-4049-b0d2-9814f85e7ef2",
   "metadata": {},
   "outputs": [],
   "source": [
    "class Book:\n",
    "    def __init__(self, title, author, isbn, publication_year, available_copies):\n",
    "        \"\"\"Initialize a Book object with given attributes.\"\"\"\n",
    "        self.title = title\n",
    "        self.author = author\n",
    "        self.isbn = isbn\n",
    "        self.publication_year = publication_year\n",
    "        self.available_copies = available_copies\n",
    "\n",
    "    def check_out(self):\n",
    "        \"\"\"Decrement available copies if copies are available.\"\"\"\n",
    "        if self.available_copies > 0:\n",
    "            self.available_copies -= 1\n",
    "            print(f\"✅ '{self.title}' checked out successfully!\")\n",
    "        else:\n",
    "            print(f\"❌ '{self.title}' is currently out of stock.\")\n",
    "\n",
    "    def return_book(self):\n",
    "        \"\"\"Increment available copies when a book is returned.\"\"\"\n",
    "        self.available_copies += 1\n",
    "        print(f\"📚 '{self.title}' returned successfully!\")\n",
    "\n",
    "    def display_book_info(self):\n",
    "        \"\"\"Display book details.\"\"\"\n",
    "        print(\"\\n📖 Book Information\")\n",
    "        print(f\"Title: {self.title}\")\n",
    "        print(f\"Author: {self.author}\")\n",
    "        print(f\"ISBN: {self.isbn}\")\n",
    "        print(f\"Publication Year: {self.publication_year}\")\n",
    "        print(f\"Available Copies: {self.available_copies}\")"
   ]
  },
  {
   "cell_type": "code",
   "execution_count": null,
   "id": "e7f01cd0-0161-41a5-b6d1-53f87e8c7c03",
   "metadata": {},
   "outputs": [],
   "source": [
    "# 8  For a ticket booking system, you have to design the \"Ticket\" class with OOP\n",
    "## principles in mind. The “Ticket” class should have the following attributes:\n",
    "##a. ticket_id: Represents the unique identifier for the ticket.\n",
    "##b. event_name: Represents the name of the event.\n",
    "##c. event_date: Represents the date of the event.\n",
    "##d. venue: Represents the venue of the event.\n",
    "##e. seat_number: Represents the seat number associated with the ticket.\n",
    "##f. price: Represents the price of the ticket.\n",
    "##g. is_reserved: Represents the reservation status of the ticket.\n",
    "##The class also includes the following methods:\n",
    "##a. reserve_ticket(self): Marks the ticket as reserved if it is not already reserved.\n",
    "##b. cancel_reservation(self): Cancels the reservation of the ticket if it is already reserved.\n",
    "##c. display_ticket_info(self): Displays the information about the ticket, including its attributes and reservation status."
   ]
  },
  {
   "cell_type": "code",
   "execution_count": null,
   "id": "88aee749-9b72-4cc9-b199-cb996255ae4f",
   "metadata": {},
   "outputs": [],
   "source": [
    "class Ticket:\n",
    "    def __init__(self, ticket_id, event_name, event_date, venue, seat_number, price):\n",
    "        \"\"\"Initialize a Ticket object with given attributes.\"\"\"\n",
    "        self.ticket_id = ticket_id\n",
    "        self.event_name = event_name\n",
    "        self.event_date = event_date\n",
    "        self.venue = venue\n",
    "        self.seat_number = seat_number\n",
    "        self.price = price\n",
    "        self.is_reserved = False  # Default reservation status is False\n",
    "\n",
    "    def reserve_ticket(self):\n",
    "        \"\"\"Marks the ticket as reserved if it is not already reserved.\"\"\"\n",
    "        if not self.is_reserved:\n",
    "            self.is_reserved = True\n",
    "            print(f\"✅ Ticket {self.ticket_id} for '{self.event_name}' has been reserved.\")\n",
    "        else:\n",
    "            print(f\"❌ Ticket {self.ticket_id} is already reserved.\")\n",
    "\n",
    "    def cancel_reservation(self):\n",
    "        \"\"\"Cancels the reservation of the ticket if it is already reserved.\"\"\"\n",
    "        if self.is_reserved:\n",
    "            self.is_reserved = False\n",
    "            print(f\"🚫 Ticket {self.ticket_id} reservation has been canceled.\")\n",
    "        else:\n",
    "            print(f\"⚠️ Ticket {self.ticket_id} is not reserved.\")\n",
    "\n",
    "    def display_ticket_info(self):\n",
    "        \"\"\"Displays the ticket information including its attributes and reservation status.\"\"\"\n",
    "        print(\"\\n🎟️ Ticket Information\")\n",
    "        print(f\"Ticket ID: {self.ticket_id}\")\n",
    "        print(f\"Event: {self.event_name}\")\n",
    "        print(f\"Date: {self.event_date}\")\n",
    "        print(f\"Venue: {self.venue}\")\n",
    "        print(f\"Seat Number: {self.seat_number}\")\n",
    "        print(f\"Price: ${self.price:.2f}\")\n",
    "        print(f\"Reservation Status: {'Reserved' if self.is_reserved else 'Available'}\")"
   ]
  },
  {
   "cell_type": "code",
   "execution_count": null,
   "id": "8f433046-d6f0-489d-bf14-790675d5fc89",
   "metadata": {},
   "outputs": [],
   "source": [
    "# 9) You are creating a shopping cart for an e-commerce website. Using OOP to model\n",
    "##the \"ShoppingCart\" functionality the class should contain following attributes and methods:\n",
    "##a. items: Represents the list of items in the shopping cart.\n",
    "##The class also includes the following methods:\n",
    "\n",
    "##a. add_item(self, item): Adds an item to the shopping cart by appending it to the list of items.\n",
    "##b. remove_item(self, item): Removes an item from the shopping cart if it exists in the list.\n",
    "## c. view_cart(self): Displays the items currently present in the shopping cart.\n",
    "##d. clear_cart(self): Clears all items from the shopping cart by reassigning an empty list to the items attribute."
   ]
  },
  {
   "cell_type": "code",
   "execution_count": null,
   "id": "f72d4b0f-259e-422d-94e9-0b9827a11d0e",
   "metadata": {},
   "outputs": [],
   "source": [
    "class ShoppingCart:\n",
    "    def __init__(self):\n",
    "        \"\"\"Initialize an empty shopping cart.\"\"\"\n",
    "        self.items = []  # List to store items in the cart\n",
    "\n",
    "    def add_item(self, item):\n",
    "        \"\"\"Adds an item to the shopping cart.\"\"\"\n",
    "        self.items.append(item)\n",
    "        print(f\"✅ '{item}' has been added to the cart.\")\n",
    "\n",
    "    def remove_item(self, item):\n",
    "        \"\"\"Removes an item from the shopping cart if it exists.\"\"\"\n",
    "        if item in self.items:\n",
    "            self.items.remove(item)\n",
    "            print(f\"🛒 '{item}' has been removed from the cart.\")\n",
    "        else:\n",
    "            print(f\"⚠️ '{item}' is not in the cart.\")\n",
    "\n",
    "    def view_cart(self):\n",
    "        \"\"\"Displays the items currently present in the shopping cart.\"\"\"\n",
    "        if self.items:\n",
    "            print(\"\\n🛍️ Shopping Cart Items:\")\n",
    "            for index, item in enumerate(self.items, start=1):\n",
    "                print(f\"{index}. {item}\")\n",
    "        else:\n",
    "            print(\"🛒 Your shopping cart is empty.\")\n",
    "\n",
    "    def clear_cart(self):\n",
    "        \"\"\"Clears all items from the shopping cart.\"\"\"\n",
    "        self.items = []  # Reset items list\n",
    "        print(\"🗑️ Shopping cart has been cleared.\")"
   ]
  },
  {
   "cell_type": "code",
   "execution_count": null,
   "id": "79c44cb8-50f2-4e0b-8a0f-16d9c4c238ea",
   "metadata": {},
   "outputs": [],
   "source": [
    "#10. Imagine a school management system. You have to design the \"Student\" class using\n",
    "##OOP concepts.The “Student” class has the following attributes:\n",
    "##a. name: Represents the name of the student.\n",
    "##b. age: Represents the age of the student.\n",
    "##c. grade: Represents the grade or class of the student.\n",
    "##d. student_id: Represents the unique identifier for the student.\n",
    "##e. attendance: Represents the attendance record of the student.\n",
    "##The class should also include the following methods:\n",
    "##a. update_attendance(self, date, status): Updates the attendance record of the\n",
    "##student for a given date with the provided status (e.g., present or absent).\n",
    "##b. get_attendance(self): Returns the attendance record of the student.\n",
    "##c. get_average_attendance(self): Calculates and returns the average\n",
    "## attendance percentage of the student based on their attendance record."
   ]
  },
  {
   "cell_type": "code",
   "execution_count": null,
   "id": "f6a06b0e-6601-48f6-b7a2-01f001a940e0",
   "metadata": {},
   "outputs": [],
   "source": [
    "class Student:\n",
    "    def __init__(self, name, age, grade, student_id):\n",
    "        \"\"\"Initialize a Student object with name, age, grade, and student ID.\"\"\"\n",
    "        self.name = name\n",
    "        self.age = age\n",
    "        self.grade = grade\n",
    "        self.student_id = student_id\n",
    "        self.attendance = {}  # Dictionary to store attendance records {date: status}\n",
    "\n",
    "    def update_attendance(self, date, status):\n",
    "        \"\"\"Updates the attendance record for a given date with 'Present' or 'Absent'.\"\"\"\n",
    "        if status.lower() in [\"present\", \"absent\"]:\n",
    "            self.attendance[date] = status.capitalize()\n",
    "            print(f\"✅ Attendance updated: {self.name} was {status.capitalize()} on {date}.\")\n",
    "        else:\n",
    "            print(\"⚠️ Invalid status! Use 'Present' or 'Absent'.\")\n",
    "\n",
    "    def get_attendance(self):\n",
    "        \"\"\"Returns the attendance record of the student.\"\"\"\n",
    "        return self.attendance\n",
    "\n",
    "    def get_average_attendance(self):\n",
    "        \"\"\"Calculates and returns the attendance percentage.\"\"\"\n",
    "        if not self.attendance:\n",
    "            return 0  # Avoid division by zero\n",
    "        \n",
    "        total_days = len(self.attendance)\n",
    "        present_days = sum(1 for status in self.attendance.values() if status == \"Present\")\n",
    "        attendance_percentage = (present_days / total_days) * 100\n",
    "        return round(attendance_percentage, 2)\n",
    "\n",
    "    def display_student_info(self):\n",
    "        \"\"\"Displays the student's information.\"\"\"\n",
    "        print(\"\\n🎓 Student Information\")\n",
    "        print(f\"Name: {self.name}\")\n",
    "        print(f\"Age: {self.age}\")\n",
    "        print(f\"Grade: {self.grade}\")\n",
    "        print(f\"Student ID: {self.student_id}\")\n",
    "        print(f\"Attendance Record: {self.attendance}\")\n",
    "        print(f\"Average Attendance: {self.get_average_attendance()}%\")"
   ]
  },
  {
   "cell_type": "code",
   "execution_count": null,
   "id": "9debf5fa-989a-4bbd-ba73-f0ec2a09c58e",
   "metadata": {},
   "outputs": [],
   "source": []
  },
  {
   "cell_type": "code",
   "execution_count": null,
   "id": "9533a4c8-2c57-43b1-becd-bc4b628ca0b3",
   "metadata": {},
   "outputs": [],
   "source": []
  },
  {
   "cell_type": "code",
   "execution_count": null,
   "id": "b10eca8e-d70e-4fef-ae04-aabc33988542",
   "metadata": {},
   "outputs": [],
   "source": []
  },
  {
   "cell_type": "code",
   "execution_count": null,
   "id": "e48232e9-5ae4-4496-b7dd-84a3daf3cc09",
   "metadata": {},
   "outputs": [],
   "source": []
  },
  {
   "cell_type": "code",
   "execution_count": null,
   "id": "89313941-0c9b-4fbb-8bc9-1a3e88f9b287",
   "metadata": {},
   "outputs": [],
   "source": []
  },
  {
   "cell_type": "code",
   "execution_count": null,
   "id": "2202161e-d3af-4f59-a103-f68ca0692c72",
   "metadata": {},
   "outputs": [],
   "source": []
  },
  {
   "cell_type": "code",
   "execution_count": null,
   "id": "ada741cb-4a5d-42e1-bb8f-7799faa92446",
   "metadata": {},
   "outputs": [],
   "source": []
  },
  {
   "cell_type": "code",
   "execution_count": null,
   "id": "a5477cb7-8510-4882-b9cb-e25441cf5750",
   "metadata": {},
   "outputs": [],
   "source": []
  }
 ],
 "metadata": {
  "kernelspec": {
   "display_name": "Python [conda env:base] *",
   "language": "python",
   "name": "conda-base-py"
  },
  "language_info": {
   "codemirror_mode": {
    "name": "ipython",
    "version": 3
   },
   "file_extension": ".py",
   "mimetype": "text/x-python",
   "name": "python",
   "nbconvert_exporter": "python",
   "pygments_lexer": "ipython3",
   "version": "3.12.7"
  }
 },
 "nbformat": 4,
 "nbformat_minor": 5
}
